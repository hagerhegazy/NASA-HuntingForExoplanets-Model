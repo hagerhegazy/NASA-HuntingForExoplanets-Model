{
 "cells": [
  {
   "cell_type": "code",
   "execution_count": 13,
   "id": "1fc72615-b95e-4dff-b94c-fa0a88653d59",
   "metadata": {},
   "outputs": [],
   "source": [
    "import pandas as pd\n",
    "import numpy as np\n",
    "import matplotlib.pyplot as plt\n",
    "from sklearn.model_selection import train_test_split,StratifiedKFold, cross_val_score, cross_validate,RandomizedSearchCV\n",
    "from sklearn.ensemble import RandomForestClassifier\n",
    "from sklearn.metrics import classification_report,confusion_matrix\n",
    "from sklearn.preprocessing import LabelEncoder\n",
    "from sklearn.impute import SimpleImputer\n",
    "from sklearn.metrics import confusion_matrix, ConfusionMatrixDisplay, classification_report\n",
    "from scipy.stats import randint as sp_randint, uniform as sp_uniform\n",
    "from imblearn.over_sampling import SMOTE, ADASYN, BorderlineSMOTE\n",
    "from imblearn.combine import SMOTEENN\n",
    "from imblearn.pipeline import Pipeline\n",
    "from lightgbm import LGBMClassifier, early_stopping\n",
    "import joblib"
   ]
  },
  {
   "cell_type": "code",
   "execution_count": 35,
   "id": "0a74dfa6-92ff-444f-aa81-be3983cb6fcd",
   "metadata": {},
   "outputs": [
    {
     "name": "stdout",
     "output_type": "stream",
     "text": [
      "(9564, 141)\n"
     ]
    }
   ],
   "source": [
    "file = r\"c:\\Users\\Hegazy\\Desktop\\mine\\cumulative.csv\"\n",
    "dfb = pd.read_csv(file, comment=\"#\")\n",
    "print(dfb.shape)"
   ]
  },
  {
   "cell_type": "code",
   "execution_count": 38,
   "id": "87ef1eae-a086-4fe0-863a-27772c0071e5",
   "metadata": {},
   "outputs": [
    {
     "name": "stdout",
     "output_type": "stream",
     "text": [
      "Classes:  ['CONFIRMED' 'CANDIDATE' 'FALSE POSITIVE']\n",
      "koi_disposition\n",
      "FALSE POSITIVE    4839\n",
      "CONFIRMED         2746\n",
      "CANDIDATE         1979\n",
      "Name: count, dtype: int64\n"
     ]
    }
   ],
   "source": [
    "# print(dfb.columns)\n",
    "# print(dfb.head(3))\n",
    "# print(dfb.duplicated().sum()) #//0\n",
    "# print(dfb.dtypes)\n",
    "# print(dfb.info())\n",
    "id_col=dfb[\"koi_disposition\"].value_counts()\n",
    "print(\"Classes: \",dfb[\"koi_disposition\"].unique())\n",
    "print(id_col)"
   ]
  },
  {
   "cell_type": "code",
   "execution_count": 39,
   "id": "df19ac27-86b9-4ad3-bae6-e8af9b193b96",
   "metadata": {},
   "outputs": [
    {
     "data": {
      "image/png": "[encoded data removed]",
      "text/plain": [
       "<Figure size 640x480 with 1 Axes>"
      ]
     },
     "metadata": {},
     "output_type": "display_data"
    }
   ],
   "source": [
    "id_col.plot(kind=\"bar\")\n",
    "plt.xlabel(\"Class\")\n",
    "plt.ylabel(\"Count\")\n",
    "plt.title(\"Class Balance\")\n",
    "plt.show()"
   ]
  },
  {
   "cell_type": "code",
   "execution_count": 41,
   "id": "679bf375-d60d-4f38-9391-c7b7108a85f4",
   "metadata": {},
   "outputs": [],
   "source": [
    "# df = dfb[dfb['koi_disposition'] != 'FALSE POSITIVE']\n",
    "\n",
    "# class_data1 = dfb[dfb['koi_disposition'] == 'CONFIRMED']\n",
    "# class_data1_sampled = class_data1.sample(n=2000, random_state=42)\n",
    "# class_data2 = dfb[dfb['koi_disposition'] == 'FALSE POSITIVE']\n",
    "# class_data2_sampled = class_data2.sample(n=2000, random_state=42)\n",
    "# other_classes = dfb[~dfb['koi_disposition'].isin(['CONFIRMED','FALSE POSITIVE'])]\n",
    "# df= pd.concat([class_data1_sampled, class_data2_sampled, other_classes])\n",
    "# v2=df[\"koi_disposition\"].value_counts()\n",
    "# print(v2)\n",
    "\n",
    "# v2.plot(kind=\"bar\")\n",
    "# plt.xlabel(\"Class\")\n",
    "# plt.ylabel(\"Count\")\n",
    "# plt.title(\"Class Balance\")\n",
    "# plt.show()"
   ]
  },
  {
   "cell_type": "code",
   "execution_count": 42,
   "id": "62123998-d439-455e-b6ec-2a92b84123af",
   "metadata": {},
   "outputs": [
    {
     "name": "stdout",
     "output_type": "stream",
     "text": [
      "\n",
      "After dropping unnecessary columns: (9564, 116)\n"
     ]
    }
   ],
   "source": [
    "# print(df.isnull().sum())\n",
    "df=dfb\n",
    "nan_cols = df.columns[df.isnull().all()]\n",
    "df = df.drop(columns=nan_cols)\n",
    "# print(\"Nulls:\",df.isnull().sum().sum())\n",
    "# print(\"Filling NULLS with Median ...\")\n",
    "Y_raw = df[\"koi_disposition\"].copy()\n",
    "columns_to_drop = [\"koi_disposition\", \"rowid\", \"kepid\", \"kepoi_name\", \"kepler_name\", \"koi_score\"]\n",
    "df = df.drop(columns=columns_to_drop)\n",
    "print(f\"\\nAfter dropping unnecessary columns: {df.shape}\")"
   ]
  },
  {
   "cell_type": "code",
   "execution_count": 43,
   "id": "5df0bde5-5946-40d4-ab38-a4997fa7f017",
   "metadata": {},
   "outputs": [],
   "source": [
    "xtr, xtst, ytr, ytst = train_test_split(df, Y_raw, test_size=0.2, random_state=42, stratify=Y_raw)\n",
    "xtr_main, xtr_val, ytr_main, ytr_val = train_test_split(xtr, ytr, test_size=0.25, random_state=42, stratify=ytr)\n",
    "# corr = pd.DataFrame(xtr.corrwith(pd.Series(ytr))).sort_values(0, ascending=False)\n",
    "# print(corr.head(20))"
   ]
  },
  {
   "cell_type": "code",
   "execution_count": 44,
   "id": "7ee46475-aac9-4ddd-b246-595d07b310bd",
   "metadata": {},
   "outputs": [
    {
     "name": "stdout",
     "output_type": "stream",
     "text": [
      "Nulls in train? : 0\n",
      "Nulls in val? : 0\n",
      "Nulls in test? : 0\n"
     ]
    }
   ],
   "source": [
    "cols_to_impute = xtr_main.select_dtypes(include=np.number).columns\n",
    "cat_cols = xtr_main.select_dtypes(include=['object', 'category']).columns\n",
    "\n",
    "imputer = SimpleImputer(strategy='median')\n",
    "imputer_cat = SimpleImputer(strategy='most_frequent')\n",
    "\n",
    "xtr_main[cols_to_impute] = imputer.fit_transform(xtr_main[cols_to_impute])\n",
    "xtr_val[cols_to_impute] = imputer.transform(xtr_val[cols_to_impute])\n",
    "xtst[cols_to_impute] = imputer.transform(xtst[cols_to_impute])\n",
    "\n",
    "xtr_main[cat_cols] = imputer_cat.fit_transform(xtr_main[cat_cols])\n",
    "xtr_val[cat_cols] = imputer_cat.transform(xtr_val[cat_cols])\n",
    "xtst[cat_cols] = imputer_cat.transform(xtst[cat_cols])\n",
    "\n",
    "print(\"Nulls in train? :\", xtr_main.isnull().sum().sum())\n",
    "print(\"Nulls in val? :\", xtr_val.isnull().sum().sum())\n",
    "print(\"Nulls in test? :\", xtst.isnull().sum().sum())\n",
    "\n",
    "# print(df[\"koi_disposition\"].value_counts())\n",
    "# print(df.shape)"
   ]
  },
  {
   "cell_type": "code",
   "execution_count": 45,
   "id": "5c9b9dd8-ca3a-4df7-a925-cd3e508d193d",
   "metadata": {},
   "outputs": [
    {
     "name": "stdout",
     "output_type": "stream",
     "text": [
      "\n",
      "Final train shape: (5738, 116)\n"
     ]
    }
   ],
   "source": [
    "encoders = {}\n",
    "for cl in cat_cols:\n",
    "    LE_str = LabelEncoder()\n",
    "    xtr_main[cl] = LE_str.fit_transform(xtr_main[cl])\n",
    "    xtr_val[cl] = xtr_val[cl].apply(lambda x: x if x in LE_str.classes_ else LE_str.classes_[0])\n",
    "    xtr_val[cl] = LE_str.transform(xtr_val[cl])\n",
    "    xtst[cl] = xtst[cl].apply(lambda x: x if x in LE_str.classes_ else LE_str.classes_[0])\n",
    "    xtst[cl] = LE_str.transform(xtst[cl])\n",
    "    \n",
    "    encoders[cl] = LE_str\n",
    "LE_tg = LabelEncoder()\n",
    "ytr_main_encoded = LE_tg.fit_transform(ytr_main)\n",
    "ytr_val_encoded = LE_tg.transform(ytr_val)\n",
    "ytst_encoded = LE_tg.transform(ytst)\n",
    "\n",
    "print(f\"\\nFinal train shape: {xtr_main.shape}\")"
   ]
  },
  {
   "cell_type": "code",
   "execution_count": 49,
   "id": "c88aa226-741a-4bdf-bb68-41517fb7e20c",
   "metadata": {},
   "outputs": [
    {
     "name": "stdout",
     "output_type": "stream",
     "text": [
      "Train classes: [0 1 2]\n"
     ]
    }
   ],
   "source": [
    "# smot=SMOTE(random_state=42)\n",
    "# smot=SMOTEENN(random_state=42) #Nn\n",
    "smot = BorderlineSMOTE(random_state=42)\n",
    "# smot = ADASYN(random_state=42)\n",
    "xtr_smt,ytr_smt=smot.fit_resample(xtr_main,ytr_main_encoded)\n",
    "\n",
    "print(\"Train classes:\", np.unique(ytr_smt))"
   ]
  },
  {
   "cell_type": "code",
   "execution_count": 50,
   "id": "abea64cf-eb27-46e4-9552-be4497a25754",
   "metadata": {},
   "outputs": [
    {
     "name": "stdout",
     "output_type": "stream",
     "text": [
      "Training until validation scores don't improve for 50 rounds\n",
      "Did not meet early stopping. Best iteration is:\n",
      "[450]\tvalid_0's multi_logloss: 0.165048\n",
      "Evaluated only: multi_logloss\n"
     ]
    },
    {
     "data": {
      "text/html": [
       "<style>#sk-container-id-4 {color: black;background-color: white;}#sk-container-id-4 pre{padding: 0;}#sk-container-id-4 div.sk-toggleable {background-color: white;}#sk-container-id-4 label.sk-toggleable__label {cursor: pointer;display: block;width: 100%;margin-bottom: 0;padding: 0.3em;box-sizing: border-box;text-align: center;}#sk-container-id-4 label.sk-toggleable__label-arrow:before {content: \"▸\";float: left;margin-right: 0.25em;color: #696969;}#sk-container-id-4 label.sk-toggleable__label-arrow:hover:before {color: black;}#sk-container-id-4 div.sk-estimator:hover label.sk-toggleable__label-arrow:before {color: black;}#sk-container-id-4 div.sk-toggleable__content {max-height: 0;max-width: 0;overflow: hidden;text-align: left;background-color: #f0f8ff;}#sk-container-id-4 div.sk-toggleable__content pre {margin: 0.2em;color: black;border-radius: 0.25em;background-color: #f0f8ff;}#sk-container-id-4 input.sk-toggleable__control:checked~div.sk-toggleable__content {max-height: 200px;max-width: 100%;overflow: auto;}#sk-container-id-4 input.sk-toggleable__control:checked~label.sk-toggleable__label-arrow:before {content: \"▾\";}#sk-container-id-4 div.sk-estimator input.sk-toggleable__control:checked~label.sk-toggleable__label {background-color: #d4ebff;}#sk-container-id-4 div.sk-label input.sk-toggleable__control:checked~label.sk-toggleable__label {background-color: #d4ebff;}#sk-container-id-4 input.sk-hidden--visually {border: 0;clip: rect(1px 1px 1px 1px);clip: rect(1px, 1px, 1px, 1px);height: 1px;margin: -1px;overflow: hidden;padding: 0;position: absolute;width: 1px;}#sk-container-id-4 div.sk-estimator {font-family: monospace;background-color: #f0f8ff;border: 1px dotted black;border-radius: 0.25em;box-sizing: border-box;margin-bottom: 0.5em;}#sk-container-id-4 div.sk-estimator:hover {background-color: #d4ebff;}#sk-container-id-4 div.sk-parallel-item::after {content: \"\";width: 100%;border-bottom: 1px solid gray;flex-grow: 1;}#sk-container-id-4 div.sk-label:hover label.sk-toggleable__label {background-color: #d4ebff;}#sk-container-id-4 div.sk-serial::before {content: \"\";position: absolute;border-left: 1px solid gray;box-sizing: border-box;top: 0;bottom: 0;left: 50%;z-index: 0;}#sk-container-id-4 div.sk-serial {display: flex;flex-direction: column;align-items: center;background-color: white;padding-right: 0.2em;padding-left: 0.2em;position: relative;}#sk-container-id-4 div.sk-item {position: relative;z-index: 1;}#sk-container-id-4 div.sk-parallel {display: flex;align-items: stretch;justify-content: center;background-color: white;position: relative;}#sk-container-id-4 div.sk-item::before, #sk-container-id-4 div.sk-parallel-item::before {content: \"\";position: absolute;border-left: 1px solid gray;box-sizing: border-box;top: 0;bottom: 0;left: 50%;z-index: -1;}#sk-container-id-4 div.sk-parallel-item {display: flex;flex-direction: column;z-index: 1;position: relative;background-color: white;}#sk-container-id-4 div.sk-parallel-item:first-child::after {align-self: flex-end;width: 50%;}#sk-container-id-4 div.sk-parallel-item:last-child::after {align-self: flex-start;width: 50%;}#sk-container-id-4 div.sk-parallel-item:only-child::after {width: 0;}#sk-container-id-4 div.sk-dashed-wrapped {border: 1px dashed gray;margin: 0 0.4em 0.5em 0.4em;box-sizing: border-box;padding-bottom: 0.4em;background-color: white;}#sk-container-id-4 div.sk-label label {font-family: monospace;font-weight: bold;display: inline-block;line-height: 1.2em;}#sk-container-id-4 div.sk-label-container {text-align: center;}#sk-container-id-4 div.sk-container {/* jupyter's `normalize.less` sets `[hidden] { display: none; }` but bootstrap.min.css set `[hidden] { display: none !important; }` so we also need the `!important` here to be able to override the default hidden behavior on the sphinx rendered scikit-learn.org. See: https://github.com/scikit-learn/scikit-learn/issues/21755 */display: inline-block !important;position: relative;}#sk-container-id-4 div.sk-text-repr-fallback {display: none;}</style><div id=\"sk-container-id-4\" class=\"sk-top-container\"><div class=\"sk-text-repr-fallback\"><pre>LGBMClassifier(learning_rate=0.005, min_child_samples=30, n_estimators=450,\n",
       "               random_state=42, reg_alpha=0.2, reg_lambda=0.2, verbosity=-1)</pre><b>In a Jupyter environment, please rerun this cell to show the HTML representation or trust the notebook. <br />On GitHub, the HTML representation is unable to render, please try loading this page with nbviewer.org.</b></div><div class=\"sk-container\" hidden><div class=\"sk-item\"><div class=\"sk-estimator sk-toggleable\"><input class=\"sk-toggleable__control sk-hidden--visually\" id=\"sk-estimator-id-4\" type=\"checkbox\" checked><label for=\"sk-estimator-id-4\" class=\"sk-toggleable__label sk-toggleable__label-arrow\">LGBMClassifier</label><div class=\"sk-toggleable__content\"><pre>LGBMClassifier(learning_rate=0.005, min_child_samples=30, n_estimators=450,\n",
       "               random_state=42, reg_alpha=0.2, reg_lambda=0.2, verbosity=-1)</pre></div></div></div></div></div>"
      ],
      "text/plain": [
       "LGBMClassifier(learning_rate=0.005, min_child_samples=30, n_estimators=450,\n",
       "               random_state=42, reg_alpha=0.2, reg_lambda=0.2, verbosity=-1)"
      ]
     },
     "execution_count": 50,
     "metadata": {},
     "output_type": "execute_result"
    }
   ],
   "source": [
    "Mdl = LGBMClassifier(\n",
    "    n_estimators=450,\n",
    "    learning_rate=0.005,\n",
    "    # class_weight='balanced',\n",
    "    random_state=42,\n",
    "    reg_alpha=0.2,\n",
    "    reg_lambda=0.2,\n",
    "    min_child_samples=30,\n",
    "    verbosity=-1)\n",
    "\n",
    "Mdl.fit(xtr_smt, ytr_smt,\n",
    "        eval_set=[(xtr_val, ytr_val_encoded)],\n",
    "        eval_metric='multi_logloss',\n",
    "        callbacks=[early_stopping(50, first_metric_only=True)])\n",
    "\n",
    "\n",
    "# param_dist = {\n",
    "#     'n_estimators': sp_randint(400, 1500),\n",
    "#     'learning_rate': sp_uniform(0.005, 0.045),\n",
    "#     'num_leaves': sp_randint(20, 100),\n",
    "#     'max_depth': sp_randint(5, 15),\n",
    "#     'min_child_samples': sp_randint(10, 50),\n",
    "#     'reg_alpha': sp_uniform(0.1, 1.0),\n",
    "#     'reg_lambda': sp_uniform(0.1, 1.0),\n",
    "#     'colsample_bytree': sp_uniform(0.7, 0.9),\n",
    "#     'subsample': sp_uniform(0.7, 0.9),\n",
    "#     'subsample_freq': sp_randint(1, 7),\n",
    "#     'objective': ['multiclass'],\n",
    "#     'num_class': [len(LE_tg.classes_)],\n",
    "#     'class_weight': ['balanced'], \n",
    "#     'random_state': [42],\n",
    "#     'n_jobs': [-1],\n",
    "#     'verbose': [-1]}\n",
    "\n",
    "# lgbm = LGBMClassifier()\n",
    "# random_search = RandomizedSearchCV(\n",
    "#     estimator=lgbm, \n",
    "#     param_distributions=param_dist,\n",
    "#     n_iter=50,\n",
    "#     scoring='f1_weighted',\n",
    "#     cv=5,\n",
    "#     verbose=1,\n",
    "#     random_state=42,\n",
    "#     n_jobs=-1)\n",
    "\n",
    "# print(\"Starting Randomized Search for LightGBM hyperparameters...\")\n",
    "# random_search.fit(xtr_smt, ytr_smt)\n",
    "\n",
    "# print(\"\\n\"+\"=\"*50)\n",
    "# print(\"Best Hyperparameters Found:\")\n",
    "# print(random_search.best_params_)\n",
    "# print(f\"Best CV F1-Weighted Score: {random_search.best_score_:.4f}\")\n",
    "# print(\"=\"*50)\n",
    "\n",
    "# Mdl = random_search.best_estimator_\n",
    "# Mdl = RandomForestClassifier(\n",
    "#     n_estimators=300,\n",
    "#     class_weight='balanced',\n",
    "#     random_state=42,\n",
    "#     min_samples_split=2,\n",
    "#     min_samples_leaf=1, \n",
    "#     max_features='sqrt',\n",
    "#     n_jobs=-1)\n",
    "\n",
    "# Mdl.fit(xtr_smt, ytr_smt)\n",
    "# # Evaluate manually on validation\n",
    "# y_val_pred = Mdl.predict(xtr_val)\n",
    "# print(classification_report(ytr_val, y_val_pred))"
   ]
  },
  {
   "cell_type": "code",
   "execution_count": 51,
   "id": "5b60e7c8-c7c6-484b-9296-d9779de51dee",
   "metadata": {},
   "outputs": [
    {
     "name": "stdout",
     "output_type": "stream",
     "text": [
      "\n",
      "Train classification report:\n",
      "              precision    recall  f1-score   support\n",
      "\n",
      "           0       0.98      0.97      0.97      2903\n",
      "           1       0.97      0.97      0.97      2903\n",
      "           2       1.00      1.00      1.00      2903\n",
      "\n",
      "    accuracy                           0.98      8709\n",
      "   macro avg       0.98      0.98      0.98      8709\n",
      "weighted avg       0.98      0.98      0.98      8709\n",
      "\n",
      "\n",
      "Train classification report:\n",
      "              precision    recall  f1-score   support\n",
      "\n",
      "           0       0.89      0.86      0.87       396\n",
      "           1       0.90      0.92      0.91       549\n",
      "           2       1.00      1.00      1.00       968\n",
      "\n",
      "    accuracy                           0.95      1913\n",
      "   macro avg       0.93      0.93      0.93      1913\n",
      "weighted avg       0.95      0.95      0.95      1913\n",
      "\n",
      "\n",
      "Test classification report:\n",
      "              precision    recall  f1-score   support\n",
      "\n",
      "           0       0.88      0.88      0.88       396\n",
      "           1       0.92      0.91      0.91       549\n",
      "           2       1.00      1.00      1.00       968\n",
      "\n",
      "    accuracy                           0.95      1913\n",
      "   macro avg       0.93      0.93      0.93      1913\n",
      "weighted avg       0.95      0.95      0.95      1913\n",
      "\n"
     ]
    }
   ],
   "source": [
    "#Evaluate on TRAIN\n",
    "ytrain_pred = Mdl.predict(xtr_smt)\n",
    "print(\"\\nTrain classification report:\")\n",
    "print(classification_report(ytr_smt, ytrain_pred))\n",
    "\n",
    "#Evaluate on VAL\n",
    "yval_pred = Mdl.predict(xtr_val)\n",
    "print(\"\\nTrain classification report:\")\n",
    "print(classification_report(ytr_val_encoded, yval_pred))\n",
    "\n",
    "#Evaluate on TEST\n",
    "ytest_pred = Mdl.predict(xtst)\n",
    "print(\"\\nTest classification report:\")\n",
    "print(classification_report(ytst_encoded, ytest_pred))"
   ]
  },
  {
   "cell_type": "code",
   "execution_count": 53,
   "id": "f5616a92-960d-4f79-b661-acba4e187909",
   "metadata": {},
   "outputs": [
    {
     "data": {
      "image/png": "[encoded data removed]",
      "text/plain": [
       "<Figure size 640x480 with 2 Axes>"
      ]
     },
     "metadata": {},
     "output_type": "display_data"
    }
   ],
   "source": [
    "cm = confusion_matrix(ytst_encoded, ytest_pred)\n",
    "disp = ConfusionMatrixDisplay(confusion_matrix=cm, display_labels=LE_tg.classes_)\n",
    "disp.plot(cmap=\"Blues\", values_format=\"d\")\n",
    "plt.title(\"Confusion Matrix - Test Set\")\n",
    "plt.show()"
   ]
  },
  {
   "cell_type": "code",
   "execution_count": 58,
   "id": "b2cd4c18-725e-4192-a457-78c0f0271d88",
   "metadata": {},
   "outputs": [],
   "source": [
    "# import os\n",
    "# os.getcwd()"
   ]
  },
  {
   "cell_type": "code",
   "execution_count": 59,
   "id": "b4812ecb-67bc-4671-90f0-5629921817f6",
   "metadata": {},
   "outputs": [
    {
     "name": "stdout",
     "output_type": "stream",
     "text": [
      "Model and preprocessing objects saved successfully!\n"
     ]
    }
   ],
   "source": [
    "joblib.dump(Mdl, 'exoplanet_model.pkl')\n",
    "joblib.dump(LE_tg, 'label_encoder.pkl')\n",
    "joblib.dump(X.columns.tolist(), 'feature_columns.pkl')\n",
    "joblib.dump(encoders, 'feature_encoders.pkl')\n",
    "joblib.dump(imputer, 'imputer_numeric.pkl')\n",
    "joblib.dump(imputer_cat, 'imputer_cat.pkl')\n",
    "joblib.dump(cols_to_impute.tolist(), 'numeric_columns.pkl')\n",
    "joblib.dump(cat_cols.tolist(), 'cat_columns.pkl')\n",
    "print(\"Model and preprocessing objects saved successfully!\")"
   ]
  },
  {
   "cell_type": "code",
   "execution_count": 60,
   "id": "f8b6f275-0482-494c-8148-168014e3ec7d",
   "metadata": {},
   "outputs": [
    {
     "name": "stdout",
     "output_type": "stream",
     "text": [
      "Feature columns: 116 features\n",
      "Numeric columns: 103\n",
      "Categorical columns: 13\n"
     ]
    }
   ],
   "source": [
    "print(f\"Feature columns: {len(X.columns.tolist())} features\")\n",
    "print(f\"Numeric columns: {len(cols_to_impute)}\")\n",
    "print(f\"Categorical columns: {len(cat_cols)}\")"
   ]
  }
 ],
 "metadata": {
  "kernelspec": {
   "display_name": "Python 3 (ipykernel)",
   "language": "python",
   "name": "python3"
  },
  "language_info": {
   "codemirror_mode": {
    "name": "ipython",
    "version": 3
   },
   "file_extension": ".py",
   "mimetype": "text/x-python",
   "name": "python",
   "nbconvert_exporter": "python",
   "pygments_lexer": "ipython3",
   "version": "3.11.7"
  }
 },
 "nbformat": 4,
 "nbformat_minor": 5
}
